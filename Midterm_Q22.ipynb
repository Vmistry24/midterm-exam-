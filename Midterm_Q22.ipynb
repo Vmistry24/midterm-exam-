{
 "cells": [
  {
   "cell_type": "markdown",
   "id": "0ac4bc31-3893-4927-9952-603994f0c30e",
   "metadata": {},
   "source": [
    "Question 2 : In a jupyter notebook solve the following question using both python and SQL. Please upload the notebook to GitHub and provide the link submission box below.\n",
    "\n",
    "\n",
    "\n",
    "+---------------+---------+\n",
    "| Column Name   | Type    |\n",
    "+---------------+---------+\n",
    "| id            | int     |\n",
    "| recordDate    | date    |\n",
    "| temperature   | int     |\n",
    "+---------------+---------+\n",
    "id is the column with unique values for this table.\n",
    "This table contains information about the temperature on a certain day.\n",
    " \n",
    " \n",
    "\n",
    "Write a solution to find all dates' Id with higher temperatures compared to its previous dates (yesterday).\n",
    "\n",
    "Return the result table in any order.\n",
    "\n",
    "Please use the following input Weather table for your solution. To receive full marks you will need to create the database, create the table, insert the data below and execute the SQL query.\n",
    "\n",
    " "
   ]
  },
  {
   "cell_type": "code",
   "execution_count": 2,
   "id": "f2d84aea-f99d-4f74-a2c8-410cac16d343",
   "metadata": {},
   "outputs": [],
   "source": [
    "import sqlite3\n",
    "weather_data = [\n",
    "    (1,'2015-01-01',10),\n",
    "    (2,'2015-01-02',25),\n",
    "    (3,'2015-01-03',20),\n",
    "    (4,'2015-01-04',30),\n",
    "]\n",
    "\n",
    "def database_setup():\n",
    "    conn = sqlite3.connect('weather_database.db')\n",
    "    cursor = conn.cursor()\n",
    "\n",
    "    cursor.execute(\n",
    "        ''' CREATE TABLE weather_data (\n",
    "          id  INTEGER PRIMARY KEY,\n",
    "          recordDate DATE,\n",
    "          temperature INTEGER\n",
    "        )'''\n",
    "    )\n",
    "    cursor.executemany('INSERT INTO weather_data VALUES (?, ?, ?)', weather_data)\n",
    "    \n",
    "    conn.commit()\n",
    "    conn.close()\n",
    "    \n",
    "database_setup()"
   ]
  },
  {
   "cell_type": "code",
   "execution_count": 3,
   "id": "583eeed0-25b2-45a9-a7cc-48b564d27cf1",
   "metadata": {},
   "outputs": [
    {
     "name": "stdout",
     "output_type": "stream",
     "text": [
      "+----+\n",
      "| id |\n",
      "+----+\n",
      "| 2  |\n",
      "| 4  |\n",
      "+----+\n"
     ]
    }
   ],
   "source": [
    "conn = sqlite3.connect('weather_data.db')\n",
    "cursor = conn.cursor()\n",
    "\n",
    "query = '''\n",
    "    SELECT weather1.id\n",
    "    FROM Weather weather1\n",
    "    JOIN Weather weather2 ON weather1.recordDate = date(weather2.recordDate, '+1 day')\n",
    "    WHERE weather1.temperature > weather2.temperature\n",
    "'''\n",
    "\n",
    "cursor.execute(query)\n",
    "fetched_results = cursor.fetchall()\n",
    "\n",
    "print(\"+----+\")\n",
    "print(\"| id |\")\n",
    "print(\"+----+\")\n",
    "for fetched_result in fetched_results:\n",
    "        print(f\"| {fetched_result[0]}  |\")\n",
    "print(\"+----+\")\n",
    "\n",
    "\n",
    "conn.close()\n"
   ]
  },
  {
   "cell_type": "code",
   "execution_count": null,
   "id": "20fe0e2b-5f1b-4ecd-9f5d-dde8483d27ab",
   "metadata": {},
   "outputs": [],
   "source": []
  }
 ],
 "metadata": {
  "kernelspec": {
   "display_name": "Python 3 (ipykernel)",
   "language": "python",
   "name": "python3"
  },
  "language_info": {
   "codemirror_mode": {
    "name": "ipython",
    "version": 3
   },
   "file_extension": ".py",
   "mimetype": "text/x-python",
   "name": "python",
   "nbconvert_exporter": "python",
   "pygments_lexer": "ipython3",
   "version": "3.12.3"
  }
 },
 "nbformat": 4,
 "nbformat_minor": 5
}
