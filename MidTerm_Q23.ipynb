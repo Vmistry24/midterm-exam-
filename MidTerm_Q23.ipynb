{
 "cells": [
  {
   "cell_type": "markdown",
   "id": "0ac4bc31-3893-4927-9952-603994f0c30e",
   "metadata": {},
   "source": [
    "### Question:3"
   ]
  },
  {
   "cell_type": "code",
   "execution_count": 5,
   "id": "642c4169-5297-4549-8620-75884fb9c91b",
   "metadata": {},
   "outputs": [
    {
     "name": "stdout",
     "output_type": "stream",
     "text": [
      ">>>tough(0, 0)\n",
      "\n",
      ">>>tough(0, 1)\n",
      "*\n",
      "\n",
      ">>>tough(0, 2)\n",
      "*\n",
      "**\n",
      " *\n",
      "\n",
      ">>>tough(0, 4)\n",
      "*\n",
      "**\n",
      " *\n",
      "****\n",
      " *\n",
      " **\n",
      "  *\n",
      "\n"
     ]
    }
   ],
   "source": [
    "def tough(i, j):\n",
    "    if(j > 0):\n",
    "        tough(i, j//2)  # Renamed f to tough\n",
    "        print(\" \"*i + \"*\"*j)\n",
    "        tough(i + 1, j//2)  # Renamed f to tough\n",
    "\n",
    "print(\">>>tough(0, 0)\")\n",
    "tough(0, 0)\n",
    "print()\n",
    "\n",
    "print(\">>>tough(0, 1)\")\n",
    "tough(0, 1)\n",
    "print()\n",
    "\n",
    "print(\">>>tough(0, 2)\")\n",
    "tough(0, 2)\n",
    "print()\n",
    "\n",
    "print(\">>>tough(0, 4)\")\n",
    "tough(0, 4)\n",
    "print()"
   ]
  },
  {
   "cell_type": "code",
   "execution_count": null,
   "id": "4d068f82-8c67-477d-afc8-64aff8e56f64",
   "metadata": {},
   "outputs": [],
   "source": []
  }
 ],
 "metadata": {
  "kernelspec": {
   "display_name": "Python 3 (ipykernel)",
   "language": "python",
   "name": "python3"
  },
  "language_info": {
   "codemirror_mode": {
    "name": "ipython",
    "version": 3
   },
   "file_extension": ".py",
   "mimetype": "text/x-python",
   "name": "python",
   "nbconvert_exporter": "python",
   "pygments_lexer": "ipython3",
   "version": "3.12.3"
  }
 },
 "nbformat": 4,
 "nbformat_minor": 5
}
