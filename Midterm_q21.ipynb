{
 "cells": [
  {
   "cell_type": "markdown",
   "id": "91e0afd3-592e-4aa2-ba99-44e129b4c579",
   "metadata": {},
   "source": [
    "### Question - 1"
   ]
  },
  {
   "cell_type": "code",
   "execution_count": 22,
   "id": "0de51622-1fed-4083-8414-af29295b6deb",
   "metadata": {},
   "outputs": [
    {
     "name": "stdout",
     "output_type": "stream",
     "text": [
      "5.0\n",
      "0.75\n"
     ]
    }
   ],
   "source": [
    "import math \n",
    "class Point:\n",
    "    def __init__(self , point_x = 0 , point_y = 0):\n",
    "        self.point_x = point_x\n",
    "        self.point_y = point_y\n",
    "class Line:\n",
    "    def __init__(self , point_x1 = 0 , point_x2 = 0):\n",
    "        self.point_x1 = point_x1\n",
    "        self.point_x2 = point_x2\n",
    "\n",
    "    def length(self):\n",
    "        d_point_x = self.point_x2.point_x - self.point_x1.point_x\n",
    "        d_point_y = self.point_x2.point_y - self.point_x1.point_y\n",
    "\n",
    "        square_x = d_point_x ** 2\n",
    "        square_y = d_point_y ** 2\n",
    "        \n",
    "        return math.sqrt(square_x + square_y)\n",
    "\n",
    "    def slope(self):\n",
    "        d_point_x = self.point_x2.point_x - self.point_x1.point_x\n",
    "        d_point_y = self.point_x2.point_y - self.point_x1.point_y\n",
    "        if self.point_x2.point_x != self.point_x1.point_x:\n",
    "            return d_point_x / d_point_y\n",
    "        else:\n",
    "            return None\n",
    "            \n",
    "point_one = Point(3,4)\n",
    "point_two = Point()\n",
    "segment = Line(point_one , point_two)\n",
    "\n",
    "print(segment.length())\n",
    "print(segment.slope())"
   ]
  },
  {
   "cell_type": "code",
   "execution_count": null,
   "id": "2410ab33-bfb9-4908-b217-6743817b167e",
   "metadata": {},
   "outputs": [],
   "source": []
  },
  {
   "cell_type": "code",
   "execution_count": null,
   "id": "6a21b931-d1b4-4e56-809c-64d0742640e5",
   "metadata": {},
   "outputs": [],
   "source": []
  }
 ],
 "metadata": {
  "kernelspec": {
   "display_name": "Python 3 (ipykernel)",
   "language": "python",
   "name": "python3"
  },
  "language_info": {
   "codemirror_mode": {
    "name": "ipython",
    "version": 3
   },
   "file_extension": ".py",
   "mimetype": "text/x-python",
   "name": "python",
   "nbconvert_exporter": "python",
   "pygments_lexer": "ipython3",
   "version": "3.12.3"
  }
 },
 "nbformat": 4,
 "nbformat_minor": 5
}
